{
  "nbformat": 4,
  "nbformat_minor": 0,
  "metadata": {
    "colab": {
      "provenance": [],
      "include_colab_link": true
    },
    "kernelspec": {
      "name": "python3",
      "display_name": "Python 3"
    },
    "language_info": {
      "name": "python"
    }
  },
  "cells": [
    {
      "cell_type": "markdown",
      "metadata": {
        "id": "view-in-github",
        "colab_type": "text"
      },
      "source": [
        "<a href=\"https://colab.research.google.com/github/atiksha2528/Integer-floats-booleans/blob/main/numPY_2.ipynb\" target=\"_parent\"><img src=\"https://colab.research.google.com/assets/colab-badge.svg\" alt=\"Open In Colab\"/></a>"
      ]
    },
    {
      "cell_type": "code",
      "source": [
        "#load the numpy\n",
        "import numpy as np\n",
        "#create a 2D array\n",
        "arravali= np.array (np.random.randint(10,45,(8,2)))\n",
        "print(f\"the defined array is \\n{arravali}\")\n",
        "print(f\"\\n the shape of the array is {arravali.shape}\")"
      ],
      "metadata": {
        "colab": {
          "base_uri": "https://localhost:8080/"
        },
        "id": "uyjAN-wr1Ky6",
        "outputId": "24348c06-3123-42a0-f4e5-3beadac5dd6c"
      },
      "execution_count": null,
      "outputs": [
        {
          "output_type": "stream",
          "name": "stdout",
          "text": [
            "the defined array is \n",
            "[[23 14]\n",
            " [11 25]\n",
            " [11 41]\n",
            " [33 28]\n",
            " [20 16]\n",
            " [40 36]\n",
            " [16 10]\n",
            " [13 36]]\n",
            "\n",
            " the shape of the array is (8, 2)\n"
          ]
        }
      ]
    },
    {
      "cell_type": "code",
      "source": [
        "#Storing the transpose in another matrix object\n",
        "nilgiri = np.transpose(arravali)\n",
        "print(f\" This transpose of the array is \\n{nilgiri}\")\n",
        "print(f\" \\n The shape of the array is {nilgiri.shape}\")"
      ],
      "metadata": {
        "colab": {
          "base_uri": "https://localhost:8080/"
        },
        "id": "cAOyWGzi3By5",
        "outputId": "a1cf9d31-210b-4a2e-c9ee-7d556f5f4292"
      },
      "execution_count": null,
      "outputs": [
        {
          "output_type": "stream",
          "name": "stdout",
          "text": [
            " This transpose of the array is \n",
            "[[23 11 11 33 20 40 16 13]\n",
            " [14 25 41 28 16 36 10 36]]\n",
            " \n",
            " The shape of the array is (2, 8)\n"
          ]
        }
      ]
    },
    {
      "cell_type": "code",
      "source": [
        "#3D Array\n",
        "\n",
        "random_3d_array = np.array(np.random.randint(10,45,(3,2,4)))\n",
        "print(f\"The defined array is \\n{random_3d_array}\")\n",
        "print(f\" \\n The shape of the array is {random_3d_array.shape}\")"
      ],
      "metadata": {
        "colab": {
          "base_uri": "https://localhost:8080/"
        },
        "id": "WtTYopv83mo1",
        "outputId": "2669f8f0-0d0b-4646-e006-88cdfcdfef14"
      },
      "execution_count": null,
      "outputs": [
        {
          "output_type": "stream",
          "name": "stdout",
          "text": [
            "The defined array is \n",
            "[[[11 22 23 20]\n",
            "  [14 24 20 27]]\n",
            "\n",
            " [[41 12 18 13]\n",
            "  [30 18 10 17]]\n",
            "\n",
            " [[21 11 38 16]\n",
            "  [15 33 20 24]]]\n",
            " \n",
            " The shape of the array is (3, 2, 4)\n"
          ]
        }
      ]
    },
    {
      "cell_type": "code",
      "source": [
        "#Storing the transpose of the created 3D Array\n",
        "\n",
        "transpose_3d_array = np.transpose(random_3d_array)\n",
        "print(f\" This transpose of the array is \\n{transpose_3d_array}\")\n",
        "print(f\" \\n The shape of the array is {transpose_3d_array.shape}\")"
      ],
      "metadata": {
        "colab": {
          "base_uri": "https://localhost:8080/"
        },
        "id": "9Gz7ZXcy4E9I",
        "outputId": "0c3b378a-ac75-43b1-8a5e-377eab23ed00"
      },
      "execution_count": null,
      "outputs": [
        {
          "output_type": "stream",
          "name": "stdout",
          "text": [
            " This transpose of the array is \n",
            "[[[11 41 21]\n",
            "  [14 30 15]]\n",
            "\n",
            " [[22 12 11]\n",
            "  [24 18 33]]\n",
            "\n",
            " [[23 18 38]\n",
            "  [20 10 20]]\n",
            "\n",
            " [[20 13 16]\n",
            "  [27 17 24]]]\n",
            " \n",
            " The shape of the array is (4, 2, 3)\n"
          ]
        }
      ]
    },
    {
      "cell_type": "code",
      "source": [
        "#Create a two dimensional array\n",
        "\n",
        "random_cohort = np.array(np.random.randint(10,45,(3,8)))\n",
        "print(f\"The defined array is \\n{random_cohort}\")\n",
        "print(f\" \\n The shape of the array is {random_cohort.shape}\")"
      ],
      "metadata": {
        "colab": {
          "base_uri": "https://localhost:8080/"
        },
        "id": "M1tNadz_4IEg",
        "outputId": "ba59f732-0a36-4837-9648-d8f509d03466"
      },
      "execution_count": null,
      "outputs": [
        {
          "output_type": "stream",
          "name": "stdout",
          "text": [
            "The defined array is \n",
            "[[20 44 25 22 43 29 14 41]\n",
            " [36 14 34 41 13 24 20 37]\n",
            " [12 20 19 14 22 23 35 14]]\n",
            " \n",
            " The shape of the array is (3, 8)\n"
          ]
        }
      ]
    },
    {
      "cell_type": "code",
      "source": [
        "#Now we can reshape this to 1D,2D or 3D Array\n",
        "\n",
        "new_shape = (2,6,2)\n",
        "reshaped_random_cohort = np.reshape(random_cohort,new_shape)\n",
        "print(f\"This reshaped array is \\n{reshaped_random_cohort}\")\n",
        "print(f\" \\n The shape of the array is {reshaped_random_cohort.shape}\")"
      ],
      "metadata": {
        "colab": {
          "base_uri": "https://localhost:8080/"
        },
        "id": "W3yPqT0K4L89",
        "outputId": "fb12cfc4-dd8b-445e-8b31-9fabe36e963f"
      },
      "execution_count": null,
      "outputs": [
        {
          "output_type": "stream",
          "name": "stdout",
          "text": [
            "This reshaped array is \n",
            "[[[20 44]\n",
            "  [25 22]\n",
            "  [43 29]\n",
            "  [14 41]\n",
            "  [36 14]\n",
            "  [34 41]]\n",
            "\n",
            " [[13 24]\n",
            "  [20 37]\n",
            "  [12 20]\n",
            "  [19 14]\n",
            "  [22 23]\n",
            "  [35 14]]]\n",
            " \n",
            " The shape of the array is (2, 6, 2)\n"
          ]
        }
      ]
    },
    {
      "cell_type": "code",
      "source": [
        "new_shape = (2,-1,6)\n",
        "reshaped_random_cohort = np.reshape(random_cohort,new_shape)\n",
        "print(f\"This reshaped array is \\n{reshaped_random_cohort}\")\n",
        "print(f\" \\n The shape of the array is {reshaped_random_cohort.shape}\")"
      ],
      "metadata": {
        "colab": {
          "base_uri": "https://localhost:8080/"
        },
        "id": "dpOqRLW84O1Q",
        "outputId": "36d107a2-25b0-4e9e-bff4-b603d122874e"
      },
      "execution_count": null,
      "outputs": [
        {
          "output_type": "stream",
          "name": "stdout",
          "text": [
            "This reshaped array is \n",
            "[[[20 44 25 22 43 29]\n",
            "  [14 41 36 14 34 41]]\n",
            "\n",
            " [[13 24 20 37 12 20]\n",
            "  [19 14 22 23 35 14]]]\n",
            " \n",
            " The shape of the array is (2, 2, 6)\n"
          ]
        }
      ]
    },
    {
      "cell_type": "code",
      "source": [
        "random_3D_cohort = np.array(np.random.randint(10,45,(3,6,2)))\n",
        "print(f\"The defined array is \\n{random_3D_cohort}\")\n",
        "print(f\" \\n The shape of the array is {random_3D_cohort.shape}\")"
      ],
      "metadata": {
        "colab": {
          "base_uri": "https://localhost:8080/"
        },
        "id": "C9_6SWG64S2P",
        "outputId": "7e9699b2-a047-4557-8a10-ea7c0ffe6051"
      },
      "execution_count": null,
      "outputs": [
        {
          "output_type": "stream",
          "name": "stdout",
          "text": [
            "The defined array is \n",
            "[[[20 31]\n",
            "  [17 40]\n",
            "  [27 38]\n",
            "  [20 17]\n",
            "  [33 32]\n",
            "  [34 39]]\n",
            "\n",
            " [[22 36]\n",
            "  [40 32]\n",
            "  [20 39]\n",
            "  [29 11]\n",
            "  [13 28]\n",
            "  [34 10]]\n",
            "\n",
            " [[20 43]\n",
            "  [23 14]\n",
            "  [39 13]\n",
            "  [38 19]\n",
            "  [44 19]\n",
            "  [28 19]]]\n",
            " \n",
            " The shape of the array is (3, 6, 2)\n"
          ]
        }
      ]
    },
    {
      "cell_type": "code",
      "source": [
        "new_shape = (2,1,6)\n",
        "resize_random_3D_cohort = np.resize(random_3D_cohort,new_shape)\n",
        "print(f\"This resized array is \\n{resize_random_3D_cohort}\")\n",
        "print(f\" \\n The shape of the array is {resize_random_3D_cohort.shape}\")"
      ],
      "metadata": {
        "colab": {
          "base_uri": "https://localhost:8080/"
        },
        "id": "e_s2ympd4WML",
        "outputId": "c6dd6f57-751c-43a3-c3d4-de106c11b9ae"
      },
      "execution_count": null,
      "outputs": [
        {
          "output_type": "stream",
          "name": "stdout",
          "text": [
            "This resized array is \n",
            "[[[20 31 17 40 27 38]]\n",
            "\n",
            " [[20 17 33 32 34 39]]]\n",
            " \n",
            " The shape of the array is (2, 1, 6)\n"
          ]
        }
      ]
    },
    {
      "cell_type": "code",
      "source": [
        "random_3D_cohort = np.array(np.random.randint(10,45,(2,4,6)))\n",
        "print(f\"The defined array is \\n{random_3D_cohort}\")\n",
        "print(f\" \\n The shape of the array is {random_3D_cohort.shape}\")"
      ],
      "metadata": {
        "colab": {
          "base_uri": "https://localhost:8080/"
        },
        "id": "eAdj74ue4Yvh",
        "outputId": "ca723a33-449f-46d3-b6f4-29d85e5f372f"
      },
      "execution_count": null,
      "outputs": [
        {
          "output_type": "stream",
          "name": "stdout",
          "text": [
            "The defined array is \n",
            "[[[13 14 31 44 32 17]\n",
            "  [38 30 11 18 24 42]\n",
            "  [12 35 38 20 14 15]\n",
            "  [21 23 12 19 35 42]]\n",
            "\n",
            " [[24 27 18 23 44 27]\n",
            "  [11 35 39 17 17 19]\n",
            "  [12 39 13 34 20 14]\n",
            "  [34 26 42 41 26 28]]]\n",
            " \n",
            " The shape of the array is (2, 4, 6)\n"
          ]
        }
      ]
    },
    {
      "cell_type": "code",
      "source": [
        "new_shape = (2,3,6)\n",
        "resized_random_3D_cohort = np.resize(random_3D_cohort,new_shape)\n",
        "print(f\"This resized array is \\n{resize_random_3D_cohort}\")\n",
        "print(f\" \\n The shape of the array is {resize_random_3D_cohort.shape}\")"
      ],
      "metadata": {
        "colab": {
          "base_uri": "https://localhost:8080/"
        },
        "id": "MtbDzhcg4dYO",
        "outputId": "84cd97d8-5f55-400d-c316-ff7dfbfab640"
      },
      "execution_count": null,
      "outputs": [
        {
          "output_type": "stream",
          "name": "stdout",
          "text": [
            "This resized array is \n",
            "[[[20 31 17 40 27 38]]\n",
            "\n",
            " [[20 17 33 32 34 39]]]\n",
            " \n",
            " The shape of the array is (2, 1, 6)\n"
          ]
        }
      ]
    },
    {
      "cell_type": "code",
      "source": [
        "import numpy as np\n",
        "random_3D_cohort = np.array(np.random.randint(10,45,(2,4,6)))\n",
        "print(f\"The defined array is \\n{random_3D_cohort}\")\n",
        "print(f\" \\n The shape of the array is {random_3D_cohort.shape}\")"
      ],
      "metadata": {
        "colab": {
          "base_uri": "https://localhost:8080/"
        },
        "id": "PsZl5MgF4gKK",
        "outputId": "571efc8a-23f7-434d-b545-8e1417c2aa58"
      },
      "execution_count": null,
      "outputs": [
        {
          "output_type": "stream",
          "name": "stdout",
          "text": [
            "The defined array is \n",
            "[[[11 38 30 13 14 39]\n",
            "  [39 17 42 16 17 34]\n",
            "  [44 28 39 15 34 26]\n",
            "  [34 43 30 29 16 40]]\n",
            "\n",
            " [[29 44 14 36 18 32]\n",
            "  [36 18 19 12 35 17]\n",
            "  [21 21 27 24 16 20]\n",
            "  [21 30 30 32 11 40]]]\n",
            " \n",
            " The shape of the array is (2, 4, 6)\n"
          ]
        }
      ]
    },
    {
      "cell_type": "code",
      "source": [
        "new_shape = (2,3,6)\n",
        "resized_random_3D_cohort = np.resize(random_3D_cohort,new_shape)\n",
        "print(f\"This resized array is \\n{resized_random_3D_cohort}\")\n",
        "print(f\" \\n The shape of the array is {resized_random_3D_cohort.shape}\")"
      ],
      "metadata": {
        "colab": {
          "base_uri": "https://localhost:8080/"
        },
        "id": "r_X1I3OZ4jtk",
        "outputId": "8d7b2010-9f5c-43fb-f9a4-e71715c6b2d3"
      },
      "execution_count": null,
      "outputs": [
        {
          "output_type": "stream",
          "name": "stdout",
          "text": [
            "This resized array is \n",
            "[[[11 38 30 13 14 39]\n",
            "  [39 17 42 16 17 34]\n",
            "  [44 28 39 15 34 26]]\n",
            "\n",
            " [[34 43 30 29 16 40]\n",
            "  [29 44 14 36 18 32]\n",
            "  [36 18 19 12 35 17]]]\n",
            " \n",
            " The shape of the array is (2, 3, 6)\n"
          ]
        }
      ]
    },
    {
      "cell_type": "code",
      "source": [
        "import numpy as np\n",
        "a = np.random.randint(10,20,(2,3,4))   #Axis 0-2 ; Axis 1-3 ; Axis 2-4\n",
        "print(a)\n",
        "print(a.shape)"
      ],
      "metadata": {
        "colab": {
          "base_uri": "https://localhost:8080/"
        },
        "id": "LDRYX7iP5WgC",
        "outputId": "652b7b9b-b6bd-4d3e-f664-45d53875d4e7"
      },
      "execution_count": null,
      "outputs": [
        {
          "output_type": "stream",
          "name": "stdout",
          "text": [
            "[[[16 14 13 15]\n",
            "  [13 13 10 12]\n",
            "  [19 13 10 19]]\n",
            "\n",
            " [[19 11 18 11]\n",
            "  [18 16 16 15]\n",
            "  [10 16 10 17]]]\n",
            "(2, 3, 4)\n"
          ]
        }
      ]
    },
    {
      "cell_type": "code",
      "source": [
        "#Insert along axis = 0\n",
        "np.insert(a,1,100,axis=0)"
      ],
      "metadata": {
        "colab": {
          "base_uri": "https://localhost:8080/"
        },
        "id": "S6X6eOZn5Yrq",
        "outputId": "4e97ff7f-f807-4d20-d58e-bced8274e551"
      },
      "execution_count": null,
      "outputs": [
        {
          "output_type": "execute_result",
          "data": {
            "text/plain": [
              "array([[[ 16,  14,  13,  15],\n",
              "        [ 13,  13,  10,  12],\n",
              "        [ 19,  13,  10,  19]],\n",
              "\n",
              "       [[100, 100, 100, 100],\n",
              "        [100, 100, 100, 100],\n",
              "        [100, 100, 100, 100]],\n",
              "\n",
              "       [[ 19,  11,  18,  11],\n",
              "        [ 18,  16,  16,  15],\n",
              "        [ 10,  16,  10,  17]]])"
            ]
          },
          "metadata": {},
          "execution_count": 21
        }
      ]
    },
    {
      "cell_type": "code",
      "source": [
        "a = np.random.randint(2,6,(2,3,3))\n",
        "print(a)\n",
        "print(a.shape)"
      ],
      "metadata": {
        "colab": {
          "base_uri": "https://localhost:8080/"
        },
        "id": "bmShL0pI5baH",
        "outputId": "3cb95dc8-b1db-4178-c061-66e379320d60"
      },
      "execution_count": null,
      "outputs": [
        {
          "output_type": "stream",
          "name": "stdout",
          "text": [
            "[[[4 3 2]\n",
            "  [2 2 5]\n",
            "  [4 3 5]]\n",
            "\n",
            " [[3 3 3]\n",
            "  [3 4 3]\n",
            "  [5 2 3]]]\n",
            "(2, 3, 3)\n"
          ]
        }
      ]
    },
    {
      "cell_type": "code",
      "source": [
        "np.append(a,50)"
      ],
      "metadata": {
        "colab": {
          "base_uri": "https://localhost:8080/"
        },
        "id": "4plp7izH5eNF",
        "outputId": "42630c38-93e4-47a9-ca74-9ec4ada94eca"
      },
      "execution_count": null,
      "outputs": [
        {
          "output_type": "execute_result",
          "data": {
            "text/plain": [
              "array([ 4,  3,  2,  2,  2,  5,  4,  3,  5,  3,  3,  3,  3,  4,  3,  5,  2,\n",
              "        3, 50])"
            ]
          },
          "metadata": {},
          "execution_count": 23
        }
      ]
    },
    {
      "cell_type": "code",
      "source": [
        "b = np.random.randint(2,6,(2,1,3))\n",
        "print(b)"
      ],
      "metadata": {
        "colab": {
          "base_uri": "https://localhost:8080/"
        },
        "id": "fmjTVYgL5iza",
        "outputId": "7f9d6af2-439c-44a5-c6bf-89f3fc4e0bf8"
      },
      "execution_count": null,
      "outputs": [
        {
          "output_type": "stream",
          "name": "stdout",
          "text": [
            "[[[5 2 5]]\n",
            "\n",
            " [[3 3 5]]]\n"
          ]
        }
      ]
    },
    {
      "cell_type": "code",
      "source": [
        "print(a)\n",
        "print(a.shape)"
      ],
      "metadata": {
        "colab": {
          "base_uri": "https://localhost:8080/"
        },
        "id": "mZ7lq1h65keZ",
        "outputId": "87b86e49-9c36-47bd-a216-c8b4a2f1a97a"
      },
      "execution_count": null,
      "outputs": [
        {
          "output_type": "stream",
          "name": "stdout",
          "text": [
            "[[[4 3 2]\n",
            "  [2 2 5]\n",
            "  [4 3 5]]\n",
            "\n",
            " [[3 3 3]\n",
            "  [3 4 3]\n",
            "  [5 2 3]]]\n",
            "(2, 3, 3)\n"
          ]
        }
      ]
    },
    {
      "cell_type": "code",
      "source": [
        "np.append(a,b,axis=1)"
      ],
      "metadata": {
        "colab": {
          "base_uri": "https://localhost:8080/"
        },
        "id": "voVQ8Bj05nWb",
        "outputId": "25a71dd8-8327-429b-f537-4282d28a552a"
      },
      "execution_count": null,
      "outputs": [
        {
          "output_type": "execute_result",
          "data": {
            "text/plain": [
              "array([[[4, 3, 2],\n",
              "        [2, 2, 5],\n",
              "        [4, 3, 5],\n",
              "        [5, 2, 5]],\n",
              "\n",
              "       [[3, 3, 3],\n",
              "        [3, 4, 3],\n",
              "        [5, 2, 3],\n",
              "        [3, 3, 5]]])"
            ]
          },
          "metadata": {},
          "execution_count": 26
        }
      ]
    },
    {
      "cell_type": "code",
      "source": [
        "import numpy as np\n",
        "a = np.random.randint(2,6,(2,3,3))\n",
        "print(a)\n",
        "print(a.shape)"
      ],
      "metadata": {
        "colab": {
          "base_uri": "https://localhost:8080/"
        },
        "id": "sszPktYh5rg-",
        "outputId": "ef2b7eb3-01dd-4f29-b178-be543789b33c"
      },
      "execution_count": null,
      "outputs": [
        {
          "output_type": "stream",
          "name": "stdout",
          "text": [
            "[[[3 2 2]\n",
            "  [5 5 2]\n",
            "  [3 3 2]]\n",
            "\n",
            " [[4 2 2]\n",
            "  [2 4 4]\n",
            "  [4 4 3]]]\n",
            "(2, 3, 3)\n"
          ]
        }
      ]
    },
    {
      "cell_type": "code",
      "source": [
        "np.delete(a,(0),axis = 0)"
      ],
      "metadata": {
        "colab": {
          "base_uri": "https://localhost:8080/"
        },
        "id": "8emtdYQn5vCv",
        "outputId": "9444bf18-3662-4c58-ae29-8f9da1cb7c81"
      },
      "execution_count": null,
      "outputs": [
        {
          "output_type": "execute_result",
          "data": {
            "text/plain": [
              "array([[[4, 2, 2],\n",
              "        [2, 4, 4],\n",
              "        [4, 4, 3]]])"
            ]
          },
          "metadata": {},
          "execution_count": 28
        }
      ]
    },
    {
      "cell_type": "code",
      "source": [
        "np.delete(a,(0,2),axis = 1)"
      ],
      "metadata": {
        "colab": {
          "base_uri": "https://localhost:8080/"
        },
        "id": "upC_JLw75xvu",
        "outputId": "97bafbde-d547-4425-fd7f-0a6aa620d56c"
      },
      "execution_count": null,
      "outputs": [
        {
          "output_type": "execute_result",
          "data": {
            "text/plain": [
              "array([[[5, 5, 2]],\n",
              "\n",
              "       [[2, 4, 4]]])"
            ]
          },
          "metadata": {},
          "execution_count": 29
        }
      ]
    },
    {
      "cell_type": "code",
      "source": [
        "a"
      ],
      "metadata": {
        "colab": {
          "base_uri": "https://localhost:8080/"
        },
        "id": "fAOvU3cs50mw",
        "outputId": "ed2b8e5e-b8c0-4d80-d0c8-a7525a96b7c2"
      },
      "execution_count": null,
      "outputs": [
        {
          "output_type": "execute_result",
          "data": {
            "text/plain": [
              "array([[[3, 2, 2],\n",
              "        [5, 5, 2],\n",
              "        [3, 3, 2]],\n",
              "\n",
              "       [[4, 2, 2],\n",
              "        [2, 4, 4],\n",
              "        [4, 4, 3]]])"
            ]
          },
          "metadata": {},
          "execution_count": 30
        }
      ]
    },
    {
      "cell_type": "code",
      "source": [
        "np.delete(a,(0,1),axis = 2)"
      ],
      "metadata": {
        "colab": {
          "base_uri": "https://localhost:8080/"
        },
        "id": "P_nYxakD53j8",
        "outputId": "fc304faf-1954-43b5-e834-557645cecb52"
      },
      "execution_count": null,
      "outputs": [
        {
          "output_type": "execute_result",
          "data": {
            "text/plain": [
              "array([[[2],\n",
              "        [2],\n",
              "        [2]],\n",
              "\n",
              "       [[2],\n",
              "        [4],\n",
              "        [3]]])"
            ]
          },
          "metadata": {},
          "execution_count": 31
        }
      ]
    },
    {
      "cell_type": "code",
      "source": [
        "a = np.random.randint(2,20,(2,3,3))\n",
        "print(a)\n",
        "print(a.shape)"
      ],
      "metadata": {
        "colab": {
          "base_uri": "https://localhost:8080/"
        },
        "id": "bImbijKU7PsH",
        "outputId": "0e56058a-7698-4a3e-bb86-dcb3a7d732bc"
      },
      "execution_count": null,
      "outputs": [
        {
          "output_type": "stream",
          "name": "stdout",
          "text": [
            "[[[17  8  8]\n",
            "  [ 3 17 19]\n",
            "  [ 8  8  2]]\n",
            "\n",
            " [[18 12  4]\n",
            "  [ 6  7 15]\n",
            "  [ 3 16  2]]]\n",
            "(2, 3, 3)\n"
          ]
        }
      ]
    },
    {
      "cell_type": "code",
      "source": [
        "np.unique(a)"
      ],
      "metadata": {
        "colab": {
          "base_uri": "https://localhost:8080/"
        },
        "id": "2mnNdWew7SIO",
        "outputId": "452650d3-6e5c-4b22-dcce-1c7fc7e43327"
      },
      "execution_count": null,
      "outputs": [
        {
          "output_type": "execute_result",
          "data": {
            "text/plain": [
              "array([ 2,  3,  4,  6,  7,  8, 12, 15, 16, 17, 18, 19])"
            ]
          },
          "metadata": {},
          "execution_count": 33
        }
      ]
    },
    {
      "cell_type": "code",
      "source": [
        "np.unique(a,return_counts=True)"
      ],
      "metadata": {
        "colab": {
          "base_uri": "https://localhost:8080/"
        },
        "id": "nECn_sjB7Wn8",
        "outputId": "13fc263c-a3d6-49ff-e62d-bef7da44e6a5"
      },
      "execution_count": null,
      "outputs": [
        {
          "output_type": "execute_result",
          "data": {
            "text/plain": [
              "(array([ 2,  3,  4,  6,  7,  8, 12, 15, 16, 17, 18, 19]),\n",
              " array([2, 2, 1, 1, 1, 4, 1, 1, 1, 2, 1, 1]))"
            ]
          },
          "metadata": {},
          "execution_count": 34
        }
      ]
    },
    {
      "cell_type": "code",
      "source": [
        "np.unique(a,return_counts=True,return_index=True)"
      ],
      "metadata": {
        "colab": {
          "base_uri": "https://localhost:8080/"
        },
        "id": "KjxH0AJe7XzT",
        "outputId": "9012705b-a1f3-4799-e638-3056eb6784ce"
      },
      "execution_count": null,
      "outputs": [
        {
          "output_type": "execute_result",
          "data": {
            "text/plain": [
              "(array([ 2,  3,  4,  6,  7,  8, 12, 15, 16, 17, 18, 19]),\n",
              " array([ 8,  3, 11, 12, 13,  1, 10, 14, 16,  0,  9,  5]),\n",
              " array([2, 2, 1, 1, 1, 4, 1, 1, 1, 2, 1, 1]))"
            ]
          },
          "metadata": {},
          "execution_count": 35
        }
      ]
    },
    {
      "cell_type": "code",
      "source": [
        "a = [1,2,3]\n",
        "b= a\n",
        "b[0] = 10\n",
        "print(b)\n",
        "print(a)"
      ],
      "metadata": {
        "colab": {
          "base_uri": "https://localhost:8080/"
        },
        "id": "vmSoQUZj7bKl",
        "outputId": "4bf0f941-2853-4890-d410-850ac36850fb"
      },
      "execution_count": null,
      "outputs": [
        {
          "output_type": "stream",
          "name": "stdout",
          "text": [
            "[10, 2, 3]\n",
            "[10, 2, 3]\n"
          ]
        }
      ]
    },
    {
      "cell_type": "code",
      "source": [
        "a = np.array([2,34,12])\n",
        "b = a\n",
        "b[0] = -999\n",
        "print(b)\n",
        "print(a)"
      ],
      "metadata": {
        "colab": {
          "base_uri": "https://localhost:8080/"
        },
        "id": "45fgW4_B7eEw",
        "outputId": "60fbe469-0e77-44e8-c9f9-d9a4704e737c"
      },
      "execution_count": null,
      "outputs": [
        {
          "output_type": "stream",
          "name": "stdout",
          "text": [
            "[-999   34   12]\n",
            "[-999   34   12]\n"
          ]
        }
      ]
    },
    {
      "cell_type": "code",
      "source": [
        "a = np.array([2,34,12])\n",
        "b = a.copy()\n",
        "b[0] = -999\n",
        "print(b)\n",
        "print(a)"
      ],
      "metadata": {
        "colab": {
          "base_uri": "https://localhost:8080/"
        },
        "id": "VCdRxbhB7g9u",
        "outputId": "822757f1-95ab-4add-b8f9-dd0e3c645cbd"
      },
      "execution_count": null,
      "outputs": [
        {
          "output_type": "stream",
          "name": "stdout",
          "text": [
            "[-999   34   12]\n",
            "[ 2 34 12]\n"
          ]
        }
      ]
    },
    {
      "cell_type": "code",
      "source": [
        "np.arange(3) + 5"
      ],
      "metadata": {
        "colab": {
          "base_uri": "https://localhost:8080/"
        },
        "id": "Fg1EKg6f7ock",
        "outputId": "3c4ef0de-20e9-4afe-a996-bec20b97c7c2"
      },
      "execution_count": null,
      "outputs": [
        {
          "output_type": "execute_result",
          "data": {
            "text/plain": [
              "array([5, 6, 7])"
            ]
          },
          "metadata": {},
          "execution_count": 39
        }
      ]
    },
    {
      "cell_type": "code",
      "source": [
        "np.ones((3,3)) + np.arange(3)"
      ],
      "metadata": {
        "colab": {
          "base_uri": "https://localhost:8080/"
        },
        "id": "0akJ10tN7sL0",
        "outputId": "2a64101e-1bef-43f3-ac56-9bdc97fdf292"
      },
      "execution_count": null,
      "outputs": [
        {
          "output_type": "execute_result",
          "data": {
            "text/plain": [
              "array([[1., 2., 3.],\n",
              "       [1., 2., 3.],\n",
              "       [1., 2., 3.]])"
            ]
          },
          "metadata": {},
          "execution_count": 40
        }
      ]
    },
    {
      "cell_type": "code",
      "source": [
        "np.arange(3).reshape((3,1)) + np.arange(3)"
      ],
      "metadata": {
        "colab": {
          "base_uri": "https://localhost:8080/"
        },
        "id": "p-7MPT2N7ux8",
        "outputId": "8c3bde4c-2689-48d9-9a59-4d7452b4dfc4"
      },
      "execution_count": null,
      "outputs": [
        {
          "output_type": "execute_result",
          "data": {
            "text/plain": [
              "array([[0, 1, 2],\n",
              "       [1, 2, 3],\n",
              "       [2, 3, 4]])"
            ]
          },
          "metadata": {},
          "execution_count": 41
        }
      ]
    },
    {
      "cell_type": "code",
      "source": [
        "np.arange(2)"
      ],
      "metadata": {
        "colab": {
          "base_uri": "https://localhost:8080/"
        },
        "id": "2Vr0Mamn7xoF",
        "outputId": "730f3048-7bfb-447a-a884-0b249f847a4c"
      },
      "execution_count": null,
      "outputs": [
        {
          "output_type": "execute_result",
          "data": {
            "text/plain": [
              "array([0, 1])"
            ]
          },
          "metadata": {},
          "execution_count": 42
        }
      ]
    },
    {
      "cell_type": "code",
      "source": [
        "a = np.random.randint(2,6,(2,4))\n",
        "print(a)\n",
        "b = np.random.randint(1,10,(2,2))\n",
        "print(b)"
      ],
      "metadata": {
        "colab": {
          "base_uri": "https://localhost:8080/"
        },
        "id": "nZpx8h4271-g",
        "outputId": "191b67cd-dccc-4275-ecde-d7317dae1bdc"
      },
      "execution_count": null,
      "outputs": [
        {
          "output_type": "stream",
          "name": "stdout",
          "text": [
            "[[3 4 3 4]\n",
            " [4 4 5 4]]\n",
            "[[6 2]\n",
            " [2 8]]\n"
          ]
        }
      ]
    },
    {
      "cell_type": "code",
      "source": [
        "a = np.random.randint(2,6,(2,4))\n",
        "print(a)\n",
        "b = np.random.randint(0,5,(2,4))\n",
        "print(b)"
      ],
      "metadata": {
        "colab": {
          "base_uri": "https://localhost:8080/"
        },
        "id": "NAo-CmyO8W7l",
        "outputId": "f8ebc416-5168-4e55-ccca-3b525dbb03f6"
      },
      "execution_count": null,
      "outputs": [
        {
          "output_type": "stream",
          "name": "stdout",
          "text": [
            "[[4 2 5 3]\n",
            " [4 2 2 3]]\n",
            "[[3 4 2 2]\n",
            " [3 4 4 2]]\n"
          ]
        }
      ]
    },
    {
      "cell_type": "code",
      "source": [
        "np.multiply(a,b)"
      ],
      "metadata": {
        "colab": {
          "base_uri": "https://localhost:8080/"
        },
        "id": "IvZxzjaE8daJ",
        "outputId": "2aa1f5c3-853a-447e-bc8e-d69f60cf988a"
      },
      "execution_count": null,
      "outputs": [
        {
          "output_type": "execute_result",
          "data": {
            "text/plain": [
              "array([[12,  8, 10,  6],\n",
              "       [12,  8,  8,  6]])"
            ]
          },
          "metadata": {},
          "execution_count": 46
        }
      ]
    },
    {
      "cell_type": "code",
      "source": [
        "np.divide(a,b)\n",
        "\n"
      ],
      "metadata": {
        "colab": {
          "base_uri": "https://localhost:8080/"
        },
        "id": "5eTUp5Ik8gys",
        "outputId": "e49371af-e5ed-4542-80ed-15536219016b"
      },
      "execution_count": null,
      "outputs": [
        {
          "output_type": "execute_result",
          "data": {
            "text/plain": [
              "array([[1.33333333, 0.5       , 2.5       , 1.5       ],\n",
              "       [1.33333333, 0.5       , 0.5       , 1.5       ]])"
            ]
          },
          "metadata": {},
          "execution_count": 48
        }
      ]
    },
    {
      "cell_type": "code",
      "source": [
        "a=np.random.randint(5,9,(2,4))\n",
        "print(a)"
      ],
      "metadata": {
        "colab": {
          "base_uri": "https://localhost:8080/"
        },
        "id": "_cFm0tQk8s9e",
        "outputId": "6a71f307-6b1d-4579-ce1d-205338f77063"
      },
      "execution_count": null,
      "outputs": [
        {
          "output_type": "stream",
          "name": "stdout",
          "text": [
            "[[6 6 8 8]\n",
            " [5 7 7 8]]\n"
          ]
        }
      ]
    },
    {
      "cell_type": "code",
      "source": [
        "print(np.sum(a))\n",
        "print(np.sum(a,axis = 0))\n",
        "print(np.sum(a,axis = 1))"
      ],
      "metadata": {
        "colab": {
          "base_uri": "https://localhost:8080/"
        },
        "id": "6rtiRLNX8xDw",
        "outputId": "62f6a2a5-1204-474c-b1cf-1ec2f7b6a069"
      },
      "execution_count": null,
      "outputs": [
        {
          "output_type": "stream",
          "name": "stdout",
          "text": [
            "55\n",
            "[11 13 15 16]\n",
            "[28 27]\n"
          ]
        }
      ]
    },
    {
      "cell_type": "code",
      "source": [
        "print(np.min(a))\n",
        "print(np.min(a,axis=1)) #Across Column\n",
        "a =np.random.randint(0,20,(3,3))\n",
        "print(a)"
      ],
      "metadata": {
        "colab": {
          "base_uri": "https://localhost:8080/"
        },
        "id": "SCOd8ayl8zao",
        "outputId": "d5899367-8737-4097-97e3-f77e568988be"
      },
      "execution_count": null,
      "outputs": [
        {
          "output_type": "stream",
          "name": "stdout",
          "text": [
            "5\n",
            "[6 5]\n",
            "[[ 9  9 10]\n",
            " [11  2  2]\n",
            " [ 2  0  4]]\n"
          ]
        }
      ]
    },
    {
      "cell_type": "code",
      "source": [
        "print(np.sort(a,axis=0)) # Ascending"
      ],
      "metadata": {
        "colab": {
          "base_uri": "https://localhost:8080/"
        },
        "id": "9PsqniBA82lQ",
        "outputId": "0b67285c-d40a-42b0-89ff-8a5d2c4dd4eb"
      },
      "execution_count": null,
      "outputs": [
        {
          "output_type": "stream",
          "name": "stdout",
          "text": [
            "[[ 2  0  2]\n",
            " [ 9  2  4]\n",
            " [11  9 10]]\n"
          ]
        }
      ]
    },
    {
      "cell_type": "code",
      "source": [
        "print(np.sort(a,axis=1))"
      ],
      "metadata": {
        "colab": {
          "base_uri": "https://localhost:8080/"
        },
        "id": "jWP6Zxyy860t",
        "outputId": "b1569dd5-1e59-464d-fcb9-ee2d5a364db0"
      },
      "execution_count": null,
      "outputs": [
        {
          "output_type": "stream",
          "name": "stdout",
          "text": [
            "[[ 9  9 10]\n",
            " [ 2  2 11]\n",
            " [ 0  2  4]]\n"
          ]
        }
      ]
    },
    {
      "cell_type": "code",
      "source": [
        "print(-np.sort(-a,axis=1)) #Descending"
      ],
      "metadata": {
        "id": "y98RMz0x9AIB",
        "outputId": "b08cc4ef-fdda-4b30-bb30-29e67f732f1c",
        "colab": {
          "base_uri": "https://localhost:8080/"
        }
      },
      "execution_count": null,
      "outputs": [
        {
          "output_type": "stream",
          "name": "stdout",
          "text": [
            "[[10  9  9]\n",
            " [11  2  2]\n",
            " [ 4  2  0]]\n"
          ]
        }
      ]
    },
    {
      "cell_type": "code",
      "source": [
        "sum(np.arange(3)*np.arange(3).transpose())"
      ],
      "metadata": {
        "id": "2VRocr8A9DH_",
        "outputId": "bf8ca998-dd4f-42fd-eaef-66b46a44ee1f",
        "colab": {
          "base_uri": "https://localhost:8080/"
        }
      },
      "execution_count": null,
      "outputs": [
        {
          "output_type": "execute_result",
          "data": {
            "text/plain": [
              "5"
            ]
          },
          "metadata": {},
          "execution_count": 55
        }
      ]
    }
  ]
}
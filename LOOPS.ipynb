{
  "nbformat": 4,
  "nbformat_minor": 0,
  "metadata": {
    "colab": {
      "provenance": [],
      "include_colab_link": true
    },
    "kernelspec": {
      "name": "python3",
      "display_name": "Python 3"
    },
    "language_info": {
      "name": "python"
    }
  },
  "cells": [
    {
      "cell_type": "markdown",
      "metadata": {
        "id": "view-in-github",
        "colab_type": "text"
      },
      "source": [
        "<a href=\"https://colab.research.google.com/github/atiksha2528/Integer-floats-booleans/blob/main/LOOPS.ipynb\" target=\"_parent\"><img src=\"https://colab.research.google.com/assets/colab-badge.svg\" alt=\"Open In Colab\"/></a>"
      ]
    },
    {
      "cell_type": "code",
      "execution_count": null,
      "metadata": {
        "colab": {
          "base_uri": "https://localhost:8080/"
        },
        "id": "rs-l6-ZhjZPw",
        "outputId": "1ab3b244-fc2a-418b-8120-a53c4ffd36cd"
      },
      "outputs": [
        {
          "output_type": "stream",
          "name": "stdout",
          "text": [
            "HouseStark\n",
            "HouseArryn\n",
            "HouseBaratheon\n",
            "HouseTully\n",
            "HouseGreyjoy\n",
            "HouseLannister\n",
            "HouseTyrell\n",
            "HouseMartell\n",
            "HouseTargaryen\n"
          ]
        }
      ],
      "source": [
        "#for loop\n",
        "\n",
        "#Consider a list of strings\n",
        "\n",
        "got_houses = ['Stark','Arryn','Baratheon','Tully','Greyjoy','Lannister','Tyrell','Martell','Targaryen']\n",
        "\n",
        "\n",
        "#A simple for loop to print the houses of GOT universe\n",
        "\n",
        "for house in got_houses:\n",
        "  print(f\"House{house}\")"
      ]
    },
    {
      "cell_type": "code",
      "source": [
        "got_houses"
      ],
      "metadata": {
        "colab": {
          "base_uri": "https://localhost:8080/"
        },
        "id": "NukldyvkkrVf",
        "outputId": "4feacbef-1a43-47ac-f838-1068ff5ecc02"
      },
      "execution_count": null,
      "outputs": [
        {
          "output_type": "execute_result",
          "data": {
            "text/plain": [
              "['Stark',\n",
              " 'Arryn',\n",
              " 'Baratheon',\n",
              " 'Tully',\n",
              " 'Greyjoy',\n",
              " 'Lannister',\n",
              " 'Tyrell',\n",
              " 'Martell',\n",
              " 'Targaryen']"
            ]
          },
          "metadata": {},
          "execution_count": 2
        }
      ]
    },
    {
      "cell_type": "code",
      "source": [
        "x = 1,2\n",
        "x"
      ],
      "metadata": {
        "colab": {
          "base_uri": "https://localhost:8080/"
        },
        "id": "zMVTLGEQkteM",
        "outputId": "d207b3bd-1d09-4a8d-b3ad-c970c5429477"
      },
      "execution_count": null,
      "outputs": [
        {
          "output_type": "execute_result",
          "data": {
            "text/plain": [
              "(1, 2)"
            ]
          },
          "metadata": {},
          "execution_count": 3
        }
      ]
    },
    {
      "cell_type": "code",
      "source": [
        "list(enumerate(got_houses))"
      ],
      "metadata": {
        "colab": {
          "base_uri": "https://localhost:8080/"
        },
        "id": "0BxCClFTkw2m",
        "outputId": "9ba1d1a6-b482-4251-936b-4f448d454b62"
      },
      "execution_count": null,
      "outputs": [
        {
          "output_type": "execute_result",
          "data": {
            "text/plain": [
              "[(0, 'Stark'),\n",
              " (1, 'Arryn'),\n",
              " (2, 'Baratheon'),\n",
              " (3, 'Tully'),\n",
              " (4, 'Greyjoy'),\n",
              " (5, 'Lannister'),\n",
              " (6, 'Tyrell'),\n",
              " (7, 'Martell'),\n",
              " (8, 'Targaryen')]"
            ]
          },
          "metadata": {},
          "execution_count": 4
        }
      ]
    },
    {
      "cell_type": "code",
      "source": [
        "list(range(10))"
      ],
      "metadata": {
        "colab": {
          "base_uri": "https://localhost:8080/"
        },
        "id": "Uw8DOMmJk0nX",
        "outputId": "5245ed34-0700-478e-dc6c-0c2238387571"
      },
      "execution_count": null,
      "outputs": [
        {
          "output_type": "execute_result",
          "data": {
            "text/plain": [
              "[0, 1, 2, 3, 4, 5, 6, 7, 8, 9]"
            ]
          },
          "metadata": {},
          "execution_count": 5
        }
      ]
    },
    {
      "cell_type": "code",
      "source": [
        "for i in range(2,21,2):\n",
        "      print(i)"
      ],
      "metadata": {
        "colab": {
          "base_uri": "https://localhost:8080/"
        },
        "id": "kIMkwI1Kk3Xz",
        "outputId": "35dff85d-5012-4d72-99dd-9f274f92c629"
      },
      "execution_count": null,
      "outputs": [
        {
          "output_type": "stream",
          "name": "stdout",
          "text": [
            "2\n",
            "4\n",
            "6\n",
            "8\n",
            "10\n",
            "12\n",
            "14\n",
            "16\n",
            "18\n",
            "20\n"
          ]
        }
      ]
    },
    {
      "cell_type": "code",
      "source": [
        "heisenberg_quote = \"It ceases to exist without me. No, you clearly don't know who you're talking to, so let me clue you in. I am not in danger\"\n",
        "words_by_walter = heisenberg_quote.split()\n",
        "print(words_by_walter)"
      ],
      "metadata": {
        "colab": {
          "base_uri": "https://localhost:8080/"
        },
        "id": "fWw56DdelfzF",
        "outputId": "9b3c290b-1561-4910-9235-b395ecbbd3db"
      },
      "execution_count": null,
      "outputs": [
        {
          "output_type": "stream",
          "name": "stdout",
          "text": [
            "['It', 'ceases', 'to', 'exist', 'without', 'me.', 'No,', 'you', 'clearly', \"don't\", 'know', 'who', \"you're\", 'talking', 'to,', 'so', 'let', 'me', 'clue', 'you', 'in.', 'I', 'am', 'not', 'in', 'danger']\n"
          ]
        }
      ]
    },
    {
      "cell_type": "code",
      "source": [
        "for index,char in enumerate(heisenberg_quote):\n",
        "    print(f\"The index is {index} and the character is {char}\")"
      ],
      "metadata": {
        "colab": {
          "base_uri": "https://localhost:8080/"
        },
        "id": "qfetUYg_li1K",
        "outputId": "00739b19-1568-4436-c97c-66fa00e55d52"
      },
      "execution_count": null,
      "outputs": [
        {
          "output_type": "stream",
          "name": "stdout",
          "text": [
            "The index is 0 and the character is I\n",
            "The index is 1 and the character is t\n",
            "The index is 2 and the character is  \n",
            "The index is 3 and the character is c\n",
            "The index is 4 and the character is e\n",
            "The index is 5 and the character is a\n",
            "The index is 6 and the character is s\n",
            "The index is 7 and the character is e\n",
            "The index is 8 and the character is s\n",
            "The index is 9 and the character is  \n",
            "The index is 10 and the character is t\n",
            "The index is 11 and the character is o\n",
            "The index is 12 and the character is  \n",
            "The index is 13 and the character is e\n",
            "The index is 14 and the character is x\n",
            "The index is 15 and the character is i\n",
            "The index is 16 and the character is s\n",
            "The index is 17 and the character is t\n",
            "The index is 18 and the character is  \n",
            "The index is 19 and the character is w\n",
            "The index is 20 and the character is i\n",
            "The index is 21 and the character is t\n",
            "The index is 22 and the character is h\n",
            "The index is 23 and the character is o\n",
            "The index is 24 and the character is u\n",
            "The index is 25 and the character is t\n",
            "The index is 26 and the character is  \n",
            "The index is 27 and the character is m\n",
            "The index is 28 and the character is e\n",
            "The index is 29 and the character is .\n",
            "The index is 30 and the character is  \n",
            "The index is 31 and the character is N\n",
            "The index is 32 and the character is o\n",
            "The index is 33 and the character is ,\n",
            "The index is 34 and the character is  \n",
            "The index is 35 and the character is y\n",
            "The index is 36 and the character is o\n",
            "The index is 37 and the character is u\n",
            "The index is 38 and the character is  \n",
            "The index is 39 and the character is c\n",
            "The index is 40 and the character is l\n",
            "The index is 41 and the character is e\n",
            "The index is 42 and the character is a\n",
            "The index is 43 and the character is r\n",
            "The index is 44 and the character is l\n",
            "The index is 45 and the character is y\n",
            "The index is 46 and the character is  \n",
            "The index is 47 and the character is d\n",
            "The index is 48 and the character is o\n",
            "The index is 49 and the character is n\n",
            "The index is 50 and the character is '\n",
            "The index is 51 and the character is t\n",
            "The index is 52 and the character is  \n",
            "The index is 53 and the character is k\n",
            "The index is 54 and the character is n\n",
            "The index is 55 and the character is o\n",
            "The index is 56 and the character is w\n",
            "The index is 57 and the character is  \n",
            "The index is 58 and the character is w\n",
            "The index is 59 and the character is h\n",
            "The index is 60 and the character is o\n",
            "The index is 61 and the character is  \n",
            "The index is 62 and the character is y\n",
            "The index is 63 and the character is o\n",
            "The index is 64 and the character is u\n",
            "The index is 65 and the character is '\n",
            "The index is 66 and the character is r\n",
            "The index is 67 and the character is e\n",
            "The index is 68 and the character is  \n",
            "The index is 69 and the character is t\n",
            "The index is 70 and the character is a\n",
            "The index is 71 and the character is l\n",
            "The index is 72 and the character is k\n",
            "The index is 73 and the character is i\n",
            "The index is 74 and the character is n\n",
            "The index is 75 and the character is g\n",
            "The index is 76 and the character is  \n",
            "The index is 77 and the character is t\n",
            "The index is 78 and the character is o\n",
            "The index is 79 and the character is ,\n",
            "The index is 80 and the character is  \n",
            "The index is 81 and the character is s\n",
            "The index is 82 and the character is o\n",
            "The index is 83 and the character is  \n",
            "The index is 84 and the character is l\n",
            "The index is 85 and the character is e\n",
            "The index is 86 and the character is t\n",
            "The index is 87 and the character is  \n",
            "The index is 88 and the character is m\n",
            "The index is 89 and the character is e\n",
            "The index is 90 and the character is  \n",
            "The index is 91 and the character is c\n",
            "The index is 92 and the character is l\n",
            "The index is 93 and the character is u\n",
            "The index is 94 and the character is e\n",
            "The index is 95 and the character is  \n",
            "The index is 96 and the character is y\n",
            "The index is 97 and the character is o\n",
            "The index is 98 and the character is u\n",
            "The index is 99 and the character is  \n",
            "The index is 100 and the character is i\n",
            "The index is 101 and the character is n\n",
            "The index is 102 and the character is .\n",
            "The index is 103 and the character is  \n",
            "The index is 104 and the character is I\n",
            "The index is 105 and the character is  \n",
            "The index is 106 and the character is a\n",
            "The index is 107 and the character is m\n",
            "The index is 108 and the character is  \n",
            "The index is 109 and the character is n\n",
            "The index is 110 and the character is o\n",
            "The index is 111 and the character is t\n",
            "The index is 112 and the character is  \n",
            "The index is 113 and the character is i\n",
            "The index is 114 and the character is n\n",
            "The index is 115 and the character is  \n",
            "The index is 116 and the character is d\n",
            "The index is 117 and the character is a\n",
            "The index is 118 and the character is n\n",
            "The index is 119 and the character is g\n",
            "The index is 120 and the character is e\n",
            "The index is 121 and the character is r\n"
          ]
        }
      ]
    },
    {
      "cell_type": "code",
      "source": [
        "for index,char in enumerate(heisenberg_quote):\n",
        "    print(f\"The index is {index} and the character is {char}\")"
      ],
      "metadata": {
        "colab": {
          "base_uri": "https://localhost:8080/"
        },
        "id": "-OYDWQp-ll4B",
        "outputId": "0b9c2418-9256-4b4e-9971-f6733e99cda5"
      },
      "execution_count": null,
      "outputs": [
        {
          "output_type": "stream",
          "name": "stdout",
          "text": [
            "The index is 0 and the character is I\n",
            "The index is 1 and the character is t\n",
            "The index is 2 and the character is  \n",
            "The index is 3 and the character is c\n",
            "The index is 4 and the character is e\n",
            "The index is 5 and the character is a\n",
            "The index is 6 and the character is s\n",
            "The index is 7 and the character is e\n",
            "The index is 8 and the character is s\n",
            "The index is 9 and the character is  \n",
            "The index is 10 and the character is t\n",
            "The index is 11 and the character is o\n",
            "The index is 12 and the character is  \n",
            "The index is 13 and the character is e\n",
            "The index is 14 and the character is x\n",
            "The index is 15 and the character is i\n",
            "The index is 16 and the character is s\n",
            "The index is 17 and the character is t\n",
            "The index is 18 and the character is  \n",
            "The index is 19 and the character is w\n",
            "The index is 20 and the character is i\n",
            "The index is 21 and the character is t\n",
            "The index is 22 and the character is h\n",
            "The index is 23 and the character is o\n",
            "The index is 24 and the character is u\n",
            "The index is 25 and the character is t\n",
            "The index is 26 and the character is  \n",
            "The index is 27 and the character is m\n",
            "The index is 28 and the character is e\n",
            "The index is 29 and the character is .\n",
            "The index is 30 and the character is  \n",
            "The index is 31 and the character is N\n",
            "The index is 32 and the character is o\n",
            "The index is 33 and the character is ,\n",
            "The index is 34 and the character is  \n",
            "The index is 35 and the character is y\n",
            "The index is 36 and the character is o\n",
            "The index is 37 and the character is u\n",
            "The index is 38 and the character is  \n",
            "The index is 39 and the character is c\n",
            "The index is 40 and the character is l\n",
            "The index is 41 and the character is e\n",
            "The index is 42 and the character is a\n",
            "The index is 43 and the character is r\n",
            "The index is 44 and the character is l\n",
            "The index is 45 and the character is y\n",
            "The index is 46 and the character is  \n",
            "The index is 47 and the character is d\n",
            "The index is 48 and the character is o\n",
            "The index is 49 and the character is n\n",
            "The index is 50 and the character is '\n",
            "The index is 51 and the character is t\n",
            "The index is 52 and the character is  \n",
            "The index is 53 and the character is k\n",
            "The index is 54 and the character is n\n",
            "The index is 55 and the character is o\n",
            "The index is 56 and the character is w\n",
            "The index is 57 and the character is  \n",
            "The index is 58 and the character is w\n",
            "The index is 59 and the character is h\n",
            "The index is 60 and the character is o\n",
            "The index is 61 and the character is  \n",
            "The index is 62 and the character is y\n",
            "The index is 63 and the character is o\n",
            "The index is 64 and the character is u\n",
            "The index is 65 and the character is '\n",
            "The index is 66 and the character is r\n",
            "The index is 67 and the character is e\n",
            "The index is 68 and the character is  \n",
            "The index is 69 and the character is t\n",
            "The index is 70 and the character is a\n",
            "The index is 71 and the character is l\n",
            "The index is 72 and the character is k\n",
            "The index is 73 and the character is i\n",
            "The index is 74 and the character is n\n",
            "The index is 75 and the character is g\n",
            "The index is 76 and the character is  \n",
            "The index is 77 and the character is t\n",
            "The index is 78 and the character is o\n",
            "The index is 79 and the character is ,\n",
            "The index is 80 and the character is  \n",
            "The index is 81 and the character is s\n",
            "The index is 82 and the character is o\n",
            "The index is 83 and the character is  \n",
            "The index is 84 and the character is l\n",
            "The index is 85 and the character is e\n",
            "The index is 86 and the character is t\n",
            "The index is 87 and the character is  \n",
            "The index is 88 and the character is m\n",
            "The index is 89 and the character is e\n",
            "The index is 90 and the character is  \n",
            "The index is 91 and the character is c\n",
            "The index is 92 and the character is l\n",
            "The index is 93 and the character is u\n",
            "The index is 94 and the character is e\n",
            "The index is 95 and the character is  \n",
            "The index is 96 and the character is y\n",
            "The index is 97 and the character is o\n",
            "The index is 98 and the character is u\n",
            "The index is 99 and the character is  \n",
            "The index is 100 and the character is i\n",
            "The index is 101 and the character is n\n",
            "The index is 102 and the character is .\n",
            "The index is 103 and the character is  \n",
            "The index is 104 and the character is I\n",
            "The index is 105 and the character is  \n",
            "The index is 106 and the character is a\n",
            "The index is 107 and the character is m\n",
            "The index is 108 and the character is  \n",
            "The index is 109 and the character is n\n",
            "The index is 110 and the character is o\n",
            "The index is 111 and the character is t\n",
            "The index is 112 and the character is  \n",
            "The index is 113 and the character is i\n",
            "The index is 114 and the character is n\n",
            "The index is 115 and the character is  \n",
            "The index is 116 and the character is d\n",
            "The index is 117 and the character is a\n",
            "The index is 118 and the character is n\n",
            "The index is 119 and the character is g\n",
            "The index is 120 and the character is e\n",
            "The index is 121 and the character is r\n"
          ]
        }
      ]
    },
    {
      "cell_type": "code",
      "source": [
        "country_city_river_list = [('India','New Delhi','Ganga',),('Australia','Canberra','Rovers'),('United States','Wahington DC','Missouri'),('England','London','Thames')]\n",
        "for country,city,river in country_city_river_list:\n",
        "  print(f\"The capital of {country} is {city} and it also has the river {river}.\")"
      ],
      "metadata": {
        "colab": {
          "base_uri": "https://localhost:8080/"
        },
        "id": "ks8uw3CMlrkZ",
        "outputId": "3bc2f1e2-0dfc-42e7-8786-ac472efacf05"
      },
      "execution_count": null,
      "outputs": [
        {
          "output_type": "stream",
          "name": "stdout",
          "text": [
            "The capital of India is New Delhi and it also has the river Ganga.\n",
            "The capital of Australia is Canberra and it also has the river Rovers.\n",
            "The capital of United States is Wahington DC and it also has the river Missouri.\n",
            "The capital of England is London and it also has the river Thames.\n"
          ]
        }
      ]
    },
    {
      "cell_type": "code",
      "source": [
        "for word in words_by_walter:\n",
        "    if word in ['I','me.']:\n",
        "         print(f\"The word is {word}\")"
      ],
      "metadata": {
        "colab": {
          "base_uri": "https://localhost:8080/"
        },
        "id": "p5GgUtC7lud2",
        "outputId": "f7c2c02e-e641-405c-c1b2-c453e5a17cd3"
      },
      "execution_count": null,
      "outputs": [
        {
          "output_type": "stream",
          "name": "stdout",
          "text": [
            "The word is me.\n",
            "The word is I\n"
          ]
        }
      ]
    },
    {
      "cell_type": "code",
      "source": [
        "days = ('Monday', 'Tuesday', 'Wednesday', 'Thursday', 'Friday', 'Saturday', 'Sunday')\n",
        "for day in days:\n",
        "  print(f\"Today is {day}\")"
      ],
      "metadata": {
        "colab": {
          "base_uri": "https://localhost:8080/"
        },
        "id": "cRo2D0Nslxa9",
        "outputId": "1d983e14-cee6-45e8-d20e-2195be9d66b6"
      },
      "execution_count": null,
      "outputs": [
        {
          "output_type": "stream",
          "name": "stdout",
          "text": [
            "Today is Monday\n",
            "Today is Tuesday\n",
            "Today is Wednesday\n",
            "Today is Thursday\n",
            "Today is Friday\n",
            "Today is Saturday\n",
            "Today is Sunday\n"
          ]
        }
      ]
    },
    {
      "cell_type": "code",
      "source": [
        "for elem in {1,2,3}:\n",
        "    print(elem)"
      ],
      "metadata": {
        "colab": {
          "base_uri": "https://localhost:8080/"
        },
        "id": "D8E4mSG9mHF4",
        "outputId": "ee0a1767-592f-468e-ac89-739db550cacc"
      },
      "execution_count": null,
      "outputs": [
        {
          "output_type": "stream",
          "name": "stdout",
          "text": [
            "1\n",
            "2\n",
            "3\n"
          ]
        }
      ]
    },
    {
      "cell_type": "code",
      "source": [
        "country_city_dict = {1:\"India\",2:\"USA\"}\n",
        "for item in country_city_dict:\n",
        "  print(item,country_city_dict[item])"
      ],
      "metadata": {
        "colab": {
          "base_uri": "https://localhost:8080/"
        },
        "id": "INkBNuXamKMl",
        "outputId": "370e0116-c364-4d47-917a-072b47df6a90"
      },
      "execution_count": null,
      "outputs": [
        {
          "output_type": "stream",
          "name": "stdout",
          "text": [
            "1 India\n",
            "2 USA\n"
          ]
        }
      ]
    },
    {
      "cell_type": "code",
      "source": [
        "for country, city in country_city_dict.items():\n",
        "    print(f\"The capital of {country} is {city}\")"
      ],
      "metadata": {
        "colab": {
          "base_uri": "https://localhost:8080/"
        },
        "id": "0uqIgmZamM_u",
        "outputId": "ac601e2b-5489-4420-f95f-2fb065c7e907"
      },
      "execution_count": null,
      "outputs": [
        {
          "output_type": "stream",
          "name": "stdout",
          "text": [
            "The capital of 1 is India\n",
            "The capital of 2 is USA\n"
          ]
        }
      ]
    }
  ]
}